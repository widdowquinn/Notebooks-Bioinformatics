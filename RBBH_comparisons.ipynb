{
 "cells": [
  {
   "cell_type": "markdown",
   "metadata": {},
   "source": [
    "# Reciprocal Best Blast CDS Feature Comparisons"
   ]
  },
  {
   "cell_type": "markdown",
   "metadata": {},
   "source": [
    "## Introduction\n",
    "\n",
    "We often wish to establish an *equivalence* between the CDS features on two genomes - by which we mean some assertion that sequence `A` on genome 1 is the *\"same thing\"* (in some sense) as sequence `B` on genome 2. This equivalence can take many practical forms (same catalytic function, same binding interaction, same role in a pathway, and so on) but, given the volume of sequence data available today, is usually established on the basis of sequence similarity. This similarity is then taken as a proxy for the actual equivalence we're interested in.\n",
    "\n",
    "When sequencing a new pathogen genome, or obtaining a novel transcriptome, we may want to annotate the coding sequences in that genome by determining *orthologs* - the equivalent sequences - in some other genome. \n",
    "\n",
    "In this notebook, we will look at three methods (there are many others, but we are constrained by time!) of identifying equivalent sequence features in genomes, in bulk.\n",
    "\n",
    "All three methods we will consider involve `BLASTP` comparisons between the protein complements of a plant pathogen genome and a related non-pathogenic isolate. They can be considered to fall under three categories, and all depend on initial `BLASTP` comparisons.\n",
    "\n",
    "* one-way pairwise comparison - best `BLASTP` match\n",
    "* two-way pairwise comparison - reciprocal best `BLASTP` match\n",
    "* clustering - Markov clustering (MCL) of `BLASTP` matches\n",
    "\n",
    "We will also need to run some `Python` code to process and visualise the clustering output. \n",
    "\n",
    "### Learning outcomes\n",
    "\n",
    "* Conduct `BLASTP` comparisons between protein complements for prokaryotes\n",
    "* Using `Python` and `Pandas` to collect, examine and visualise tabular format data\n",
    "* Identify reciprocal best `BLAST` matches\n",
    "* Visualise and interpret genome-wide reciprocal best `BLAST` matches."
   ]
  },
  {
   "cell_type": "markdown",
   "metadata": {},
   "source": [
    "## Running cells in this notebook\n",
    "\n",
    "<div class=\"alert alert-info\" role=\"alert\">\n",
    "This is an interactive notebook, which means you are able to run the code that is written in each of the cells.\n",
    "<br /><br />\n",
    "To run the code in a cell, you should:\n",
    "<br /><br />\n",
    "<ol>\n",
    "<li>Place your mouse cursor in the cell, and click (this gives the cell *focus*) to make it active \n",
    "<li>Hold down the <b>Shift</b> key, and press the <b>Return</b> key.\n",
    "</ol>\n",
    "</div>\n",
    "\n",
    "If this is successful, you should see the input marker to the left of the cell change from\n",
    "\n",
    "```\n",
    "In [ ]:\n",
    "```\n",
    "\n",
    "to (for example)\n",
    "\n",
    "```\n",
    "In [1]:\n",
    "```\n",
    "\n",
    "and you may see output appear below the cell."
   ]
  },
  {
   "cell_type": "markdown",
   "metadata": {},
   "source": [
    "### Requirements\n",
    "\n",
    "<div class=\"alert alert-success\">\n",
    "To complete this exercise, you will need:\n",
    "<ul>\n",
    "<li>an active internet connection\n",
    "<li>a local installation of <a href=\"https://blast.ncbi.nlm.nih.gov/Blast.cgi?PAGE_TYPE=BlastDocs&DOC_TYPE=Download\"><b>BLAST+</b></a>\n",
    "</ul>\n",
    "</div>"
   ]
  },
  {
   "cell_type": "markdown",
   "metadata": {},
   "source": [
    "### Related online documentation/publications/software\n",
    "\n",
    "**Software**\n",
    "* [CRB-BLAST](https://github.com/cboursnell/crb-blast) - conditional reciprocal best BLAST\n",
    "* [OrthoMCL](http://www.orthomcl.org/orthomcl/) - a database of predicted orthologs obtained using MCL.\n",
    "* [OrthoFinder](http://www.stevekellylab.com/software/orthofinder) - a program for finding orthologous protein sequence families\n",
    "\n",
    "**Publications**\n",
    "* Aubrey *et al.* (2014) *PLoS Genet.* [doi:10.1371/journal.pgen.1004365](http://journals.plos.org/plosgenetics/article?id=10.1371/journal.pgen.1004365)\n",
    "\n",
    "**Blogs**\n",
    "* [On Reciprocal Best Blast Hits](http://armchairbiology.blogspot.co.uk/2012/07/on-reciprocal-best-blast-hits.html)"
   ]
  },
  {
   "cell_type": "markdown",
   "metadata": {},
   "source": [
    "## One-Way Best `BLAST` matches (BBH)\n",
    "\n",
    "It is still common to see one-way matches used - even if only informally, or as a first attempt - as a means of identifying equivalent proteins/features in a genome. In this section, we'll carry out a one-way `BLAST` search between the protein complements of the plant pathogen *P. syringae* B728a and its non-pathogenic relative *P. fluorescens* NCIMB 11764, and inspect the results graphically."
   ]
  },
  {
   "cell_type": "markdown",
   "metadata": {},
   "source": [
    "### Performing the `BLASTP` query\n",
    "\n",
    "We will use the `blastp` command at the terminal to use every protein sequence in the *P. syringae* B728a annotation as a query against the predicted proteome of *P. fluorescens* NCIMB 11764. \n",
    "\n",
    "The `BLAST` databases have already been created for you to save time (using the `scripts/02-cds_feature_comparisons.sh` script), and the results are in the `pseudomonas_blastp` directory:\n",
    "\n",
    "```\n",
    "$ tree ./data/pseudomonas_blastp\n",
    "./data/pseudomonas_blastp\n",
    "├── GCF_000012245.1_ASM1224v1_protein.phr\n",
    "├── GCF_000012245.1_ASM1224v1_protein.pin\n",
    "├── GCF_000012245.1_ASM1224v1_protein.psq\n",
    "├── GCF_000293885.2_ASM29388v3_protein.phr\n",
    "├── GCF_000293885.2_ASM29388v3_protein.pin\n",
    "├── GCF_000293885.2_ASM29388v3_protein.psq\n",
    "├── GCF_000988485.1_ASM98848v1_protein.phr\n",
    "├── GCF_000988485.1_ASM98848v1_protein.pin\n",
    "└── GCF_000988485.1_ASM98848v1_protein.psq\n",
    "```\n",
    "\n",
    "We will use some custom settings to make our analysis easier to carry out.\n",
    "\n",
    "<div class=\"alert alert-warning\">\n",
    "<ul>\n",
    "<li> We will want to limit our matches to only the best hit, so we specify <b>-max_target_seqs 1</b>\n",
    "<li> We want our output in tab-separated tabular particular format so we can import it easily into other tools (like <b>R</b> and <b>Python</b>), so use <b>-outfmt 6</b>.\n",
    "<li> We want some specific non-standard columns (e.g. query sequence coverage) in that table so we can carry out some useful calculations and visualisation. We therefore specify <b>-outfmt \"6 qseqid sseqid qlen slen length nident pident qcovs evalue bitscore\"</b>\n",
    "<li> To make the comparisons quicker, we should create <b>BLAST</b> databases for each of the three proteomes, with the <b>makeblastdb</b> command. \n",
    "</ul>\n",
    "</div>\n",
    "\n",
    "To carry out the one-way `BLASTP` search of *P. syringae* B728a against *P. fluorescens* NCIMB 11764, we would execute the following command in the terminal:\n",
    "\n",
    "```\n",
    "blastp -query data/pseudomonas/GCF_000988485.1_ASM98848v1_protein.faa \\\n",
    "       -db data/pseudomonas_blastp/GCF_000293885.2_ASM29388v3_protein \\\n",
    "       -max_target_seqs 1 \\\n",
    "       -outfmt \"6 qseqid sseqid qlen slen length nident pident qcovs evalue bitscore\" \\\n",
    "       -out data/pseudomonas_blastp/B728a_vs_NCIMB_11764.tab\n",
    "```\n",
    "\n",
    "This will take a few minutes to complete, so to save time the comparison has already been made for you, with the result file being placed in `data/pseudomonas_blastp/B728a_vs_NCIMB_11764.tab`."
   ]
  },
  {
   "cell_type": "markdown",
   "metadata": {},
   "source": [
    "### Importing and visualising the results\n",
    "\n",
    "The `Python` module `helpers` is included in this directory, to provide useful helper functions so that we can read and view the `BLASTP` output generated above. To make the functions available, we import it by running the `Python` code cell below."
   ]
  },
  {
   "cell_type": "markdown",
   "metadata": {},
   "source": [
    "<div class=\"alert alert-warning\">\n",
    "<b>NOTE:</b> The <b>%pylab inline</b> \"magic\" below allows us to see plots of the <b>BLAST</b> data we load, <i>inline</i> in this notebook.\n",
    "</div>"
   ]
  },
  {
   "cell_type": "code",
   "execution_count": 1,
   "metadata": {
    "collapsed": false
   },
   "outputs": [
    {
     "name": "stdout",
     "output_type": "stream",
     "text": [
      "Populating the interactive namespace from numpy and matplotlib\n"
     ]
    }
   ],
   "source": [
    "%pylab inline\n",
    "# Import helper module\n",
    "from helpers import rbbh"
   ]
  },
  {
   "cell_type": "markdown",
   "metadata": {},
   "source": [
    "The first thing we do is load in the `BLASTP` output we generated, so that we can plot some of the key features. We do that using the `ex02.read_data()` function in the cell below. This puts the data into a *dataframe* called `data_fwd`."
   ]
  },
  {
   "cell_type": "code",
   "execution_count": 2,
   "metadata": {
    "collapsed": false
   },
   "outputs": [],
   "source": [
    "# Load one-way BLAST results into a data frame called data_fwd\n",
    "data_fwd = rbbh.read_data(\"data/pseudomonas_blastp/B728a_vs_NCIMB_11764.tab\")"
   ]
  },
  {
   "cell_type": "markdown",
   "metadata": {},
   "source": [
    "<div class=\"alert alert-warning\">\n",
    "<b>NOTE:</b> In the cell below, the <b>data.head()</b> function shows us the first few lines of the one-way <b>BLASTP</b> results, one per match; the <b>data.describe()</b> function shows us some summary data for the table.\n",
    "</div>"
   ]
  },
  {
   "cell_type": "code",
   "execution_count": 3,
   "metadata": {
    "collapsed": false
   },
   "outputs": [
    {
     "data": {
      "text/html": [
       "<div>\n",
       "<table border=\"1\" class=\"dataframe\">\n",
       "  <thead>\n",
       "    <tr style=\"text-align: right;\">\n",
       "      <th></th>\n",
       "      <th>query_id</th>\n",
       "      <th>subject_id</th>\n",
       "      <th>query_length</th>\n",
       "      <th>subject_length</th>\n",
       "      <th>alignment_length</th>\n",
       "      <th>identical_sites</th>\n",
       "      <th>identity</th>\n",
       "      <th>qcovs</th>\n",
       "      <th>Evalue</th>\n",
       "      <th>bitscore</th>\n",
       "      <th>query_coverage</th>\n",
       "      <th>subject_coverage</th>\n",
       "    </tr>\n",
       "  </thead>\n",
       "  <tbody>\n",
       "    <tr>\n",
       "      <th>0</th>\n",
       "      <td>WP_002551314.1</td>\n",
       "      <td>WP_031319201.1</td>\n",
       "      <td>133</td>\n",
       "      <td>133</td>\n",
       "      <td>133</td>\n",
       "      <td>122</td>\n",
       "      <td>91.73</td>\n",
       "      <td>100</td>\n",
       "      <td>3.000000e-85</td>\n",
       "      <td>246.0</td>\n",
       "      <td>100.000000</td>\n",
       "      <td>100.000000</td>\n",
       "    </tr>\n",
       "    <tr>\n",
       "      <th>1</th>\n",
       "      <td>WP_002551315.1</td>\n",
       "      <td>WP_017337743.1</td>\n",
       "      <td>44</td>\n",
       "      <td>257</td>\n",
       "      <td>37</td>\n",
       "      <td>9</td>\n",
       "      <td>24.32</td>\n",
       "      <td>84</td>\n",
       "      <td>2.200000e-01</td>\n",
       "      <td>25.4</td>\n",
       "      <td>84.090909</td>\n",
       "      <td>14.396887</td>\n",
       "    </tr>\n",
       "    <tr>\n",
       "      <th>2</th>\n",
       "      <td>WP_002551326.1</td>\n",
       "      <td>WP_003213601.1</td>\n",
       "      <td>315</td>\n",
       "      <td>317</td>\n",
       "      <td>317</td>\n",
       "      <td>299</td>\n",
       "      <td>94.32</td>\n",
       "      <td>100</td>\n",
       "      <td>0.000000e+00</td>\n",
       "      <td>625.0</td>\n",
       "      <td>100.634921</td>\n",
       "      <td>100.000000</td>\n",
       "    </tr>\n",
       "    <tr>\n",
       "      <th>3</th>\n",
       "      <td>WP_002551363.1</td>\n",
       "      <td>WP_017341421.1</td>\n",
       "      <td>197</td>\n",
       "      <td>193</td>\n",
       "      <td>186</td>\n",
       "      <td>141</td>\n",
       "      <td>75.81</td>\n",
       "      <td>93</td>\n",
       "      <td>2.000000e-82</td>\n",
       "      <td>244.0</td>\n",
       "      <td>94.416244</td>\n",
       "      <td>96.373057</td>\n",
       "    </tr>\n",
       "    <tr>\n",
       "      <th>4</th>\n",
       "      <td>WP_002551394.1</td>\n",
       "      <td>WP_017335870.1</td>\n",
       "      <td>290</td>\n",
       "      <td>290</td>\n",
       "      <td>275</td>\n",
       "      <td>265</td>\n",
       "      <td>96.36</td>\n",
       "      <td>95</td>\n",
       "      <td>0.000000e+00</td>\n",
       "      <td>511.0</td>\n",
       "      <td>94.827586</td>\n",
       "      <td>94.827586</td>\n",
       "    </tr>\n",
       "  </tbody>\n",
       "</table>\n",
       "</div>"
      ],
      "text/plain": [
       "         query_id      subject_id  query_length  subject_length  \\\n",
       "0  WP_002551314.1  WP_031319201.1           133             133   \n",
       "1  WP_002551315.1  WP_017337743.1            44             257   \n",
       "2  WP_002551326.1  WP_003213601.1           315             317   \n",
       "3  WP_002551363.1  WP_017341421.1           197             193   \n",
       "4  WP_002551394.1  WP_017335870.1           290             290   \n",
       "\n",
       "   alignment_length  identical_sites  identity  qcovs        Evalue  bitscore  \\\n",
       "0               133              122     91.73    100  3.000000e-85     246.0   \n",
       "1                37                9     24.32     84  2.200000e-01      25.4   \n",
       "2               317              299     94.32    100  0.000000e+00     625.0   \n",
       "3               186              141     75.81     93  2.000000e-82     244.0   \n",
       "4               275              265     96.36     95  0.000000e+00     511.0   \n",
       "\n",
       "   query_coverage  subject_coverage  \n",
       "0      100.000000        100.000000  \n",
       "1       84.090909         14.396887  \n",
       "2      100.634921        100.000000  \n",
       "3       94.416244         96.373057  \n",
       "4       94.827586         94.827586  "
      ]
     },
     "execution_count": 3,
     "metadata": {},
     "output_type": "execute_result"
    }
   ],
   "source": [
    "# Show first few lines of the loaded data\n",
    "data_fwd.head()"
   ]
  },
  {
   "cell_type": "code",
   "execution_count": 4,
   "metadata": {
    "collapsed": false
   },
   "outputs": [
    {
     "data": {
      "text/html": [
       "<div>\n",
       "<table border=\"1\" class=\"dataframe\">\n",
       "  <thead>\n",
       "    <tr style=\"text-align: right;\">\n",
       "      <th></th>\n",
       "      <th>query_length</th>\n",
       "      <th>subject_length</th>\n",
       "      <th>alignment_length</th>\n",
       "      <th>identical_sites</th>\n",
       "      <th>identity</th>\n",
       "      <th>qcovs</th>\n",
       "      <th>Evalue</th>\n",
       "      <th>bitscore</th>\n",
       "      <th>query_coverage</th>\n",
       "      <th>subject_coverage</th>\n",
       "    </tr>\n",
       "  </thead>\n",
       "  <tbody>\n",
       "    <tr>\n",
       "      <th>count</th>\n",
       "      <td>5256.000000</td>\n",
       "      <td>5256.000000</td>\n",
       "      <td>5256.000000</td>\n",
       "      <td>5256.000000</td>\n",
       "      <td>5256.000000</td>\n",
       "      <td>5256.000000</td>\n",
       "      <td>5.256000e+03</td>\n",
       "      <td>5256.000000</td>\n",
       "      <td>5256.000000</td>\n",
       "      <td>5256.000000</td>\n",
       "    </tr>\n",
       "    <tr>\n",
       "      <th>mean</th>\n",
       "      <td>509.303463</td>\n",
       "      <td>478.840183</td>\n",
       "      <td>308.540145</td>\n",
       "      <td>199.322869</td>\n",
       "      <td>62.381001</td>\n",
       "      <td>84.300799</td>\n",
       "      <td>1.841770e-01</td>\n",
       "      <td>380.685921</td>\n",
       "      <td>82.287000</td>\n",
       "      <td>79.907095</td>\n",
       "    </tr>\n",
       "    <tr>\n",
       "      <th>std</th>\n",
       "      <td>1223.528191</td>\n",
       "      <td>676.488916</td>\n",
       "      <td>315.981863</td>\n",
       "      <td>188.971006</td>\n",
       "      <td>24.282847</td>\n",
       "      <td>26.393363</td>\n",
       "      <td>7.554328e-01</td>\n",
       "      <td>372.121884</td>\n",
       "      <td>29.150842</td>\n",
       "      <td>32.547460</td>\n",
       "    </tr>\n",
       "    <tr>\n",
       "      <th>min</th>\n",
       "      <td>28.000000</td>\n",
       "      <td>46.000000</td>\n",
       "      <td>12.000000</td>\n",
       "      <td>7.000000</td>\n",
       "      <td>19.690000</td>\n",
       "      <td>3.000000</td>\n",
       "      <td>0.000000e+00</td>\n",
       "      <td>21.600000</td>\n",
       "      <td>0.747526</td>\n",
       "      <td>1.154201</td>\n",
       "    </tr>\n",
       "    <tr>\n",
       "      <th>25%</th>\n",
       "      <td>181.000000</td>\n",
       "      <td>210.000000</td>\n",
       "      <td>122.000000</td>\n",
       "      <td>62.000000</td>\n",
       "      <td>36.247500</td>\n",
       "      <td>84.750000</td>\n",
       "      <td>0.000000e+00</td>\n",
       "      <td>88.100000</td>\n",
       "      <td>76.975386</td>\n",
       "      <td>69.477406</td>\n",
       "    </tr>\n",
       "    <tr>\n",
       "      <th>50%</th>\n",
       "      <td>296.000000</td>\n",
       "      <td>317.500000</td>\n",
       "      <td>249.000000</td>\n",
       "      <td>152.000000</td>\n",
       "      <td>69.060000</td>\n",
       "      <td>98.000000</td>\n",
       "      <td>5.000000e-100</td>\n",
       "      <td>292.000000</td>\n",
       "      <td>98.697917</td>\n",
       "      <td>98.837209</td>\n",
       "    </tr>\n",
       "    <tr>\n",
       "      <th>75%</th>\n",
       "      <td>441.000000</td>\n",
       "      <td>476.250000</td>\n",
       "      <td>388.250000</td>\n",
       "      <td>279.250000</td>\n",
       "      <td>84.432500</td>\n",
       "      <td>100.000000</td>\n",
       "      <td>1.000000e-21</td>\n",
       "      <td>552.000000</td>\n",
       "      <td>100.000000</td>\n",
       "      <td>100.000000</td>\n",
       "    </tr>\n",
       "    <tr>\n",
       "      <th>max</th>\n",
       "      <td>13536.000000</td>\n",
       "      <td>4332.000000</td>\n",
       "      <td>4342.000000</td>\n",
       "      <td>3399.000000</td>\n",
       "      <td>100.000000</td>\n",
       "      <td>100.000000</td>\n",
       "      <td>9.700000e+00</td>\n",
       "      <td>6872.000000</td>\n",
       "      <td>128.000000</td>\n",
       "      <td>122.368421</td>\n",
       "    </tr>\n",
       "  </tbody>\n",
       "</table>\n",
       "</div>"
      ],
      "text/plain": [
       "       query_length  subject_length  alignment_length  identical_sites  \\\n",
       "count   5256.000000     5256.000000       5256.000000      5256.000000   \n",
       "mean     509.303463      478.840183        308.540145       199.322869   \n",
       "std     1223.528191      676.488916        315.981863       188.971006   \n",
       "min       28.000000       46.000000         12.000000         7.000000   \n",
       "25%      181.000000      210.000000        122.000000        62.000000   \n",
       "50%      296.000000      317.500000        249.000000       152.000000   \n",
       "75%      441.000000      476.250000        388.250000       279.250000   \n",
       "max    13536.000000     4332.000000       4342.000000      3399.000000   \n",
       "\n",
       "          identity        qcovs         Evalue     bitscore  query_coverage  \\\n",
       "count  5256.000000  5256.000000   5.256000e+03  5256.000000     5256.000000   \n",
       "mean     62.381001    84.300799   1.841770e-01   380.685921       82.287000   \n",
       "std      24.282847    26.393363   7.554328e-01   372.121884       29.150842   \n",
       "min      19.690000     3.000000   0.000000e+00    21.600000        0.747526   \n",
       "25%      36.247500    84.750000   0.000000e+00    88.100000       76.975386   \n",
       "50%      69.060000    98.000000  5.000000e-100   292.000000       98.697917   \n",
       "75%      84.432500   100.000000   1.000000e-21   552.000000      100.000000   \n",
       "max     100.000000   100.000000   9.700000e+00  6872.000000      128.000000   \n",
       "\n",
       "       subject_coverage  \n",
       "count       5256.000000  \n",
       "mean          79.907095  \n",
       "std           32.547460  \n",
       "min            1.154201  \n",
       "25%           69.477406  \n",
       "50%           98.837209  \n",
       "75%          100.000000  \n",
       "max          122.368421  "
      ]
     },
     "execution_count": 4,
     "metadata": {},
     "output_type": "execute_result"
    }
   ],
   "source": [
    "# Show descriptive statistics for the table\n",
    "data_fwd.describe()"
   ]
  },
  {
   "cell_type": "markdown",
   "metadata": {},
   "source": [
    "There are 5265 rows in this table, one for each of the query protein sequences in the *P. syringae* B728a annotation.\n",
    "\n",
    "We can look at the distribution of values in the dataframe rows using the `.hist()` method for any column of interest. For example, `data_fwd.subject_length.hist()` plots a histogram of the values in the `subject_length` column."
   ]
  },
  {
   "cell_type": "markdown",
   "metadata": {},
   "source": [
    "<div class=\"alert alert-warning\">\n",
    "<b>NOTE:</b> The <b>bins=100</b> option sets the number of value bins used in the histogram\n",
    "</div>"
   ]
  },
  {
   "cell_type": "code",
   "execution_count": 5,
   "metadata": {
    "collapsed": false
   },
   "outputs": [
    {
     "data": {
      "text/plain": [
       "<matplotlib.axes._subplots.AxesSubplot at 0x105272d68>"
      ]
     },
     "execution_count": 5,
     "metadata": {},
     "output_type": "execute_result"
    },
    {
     "data": {
      "image/png": "[encoded data removed]",
      "text/plain": [
       "<matplotlib.figure.Figure at 0x104abe9e8>"
      ]
     },
     "metadata": {},
     "output_type": "display_data"
    }
   ],
   "source": [
    "# Plot a histogram of alignment lengths for the BLAST data\n",
    "data_fwd.alignment_length.hist(bins=100)"
   ]
  },
  {
   "cell_type": "code",
   "execution_count": 6,
   "metadata": {
    "collapsed": false
   },
   "outputs": [
    {
     "data": {
      "text/plain": [
       "<matplotlib.axes._subplots.AxesSubplot at 0x104fc8630>"
      ]
     },
     "execution_count": 6,
     "metadata": {},
     "output_type": "execute_result"
    },
    {
     "data": {
      "image/png": "[encoded data removed]",
      "text/plain": [
       "<matplotlib.figure.Figure at 0x105328710>"
      ]
     },
     "metadata": {},
     "output_type": "display_data"
    }
   ],
   "source": [
    "# Plot a histogram of percentage identity for the BLAST data\n",
    "data_fwd.identity.hist(bins=100)"
   ]
  },
  {
   "cell_type": "code",
   "execution_count": 7,
   "metadata": {
    "collapsed": false
   },
   "outputs": [
    {
     "data": {
      "text/plain": [
       "<matplotlib.axes._subplots.AxesSubplot at 0x105452da0>"
      ]
     },
     "execution_count": 7,
     "metadata": {},
     "output_type": "execute_result"
    },
    {
     "data": {
      "image/png": "[encoded data removed]",
      "text/plain": [
       "<matplotlib.figure.Figure at 0x105584ac8>"
      ]
     },
     "metadata": {},
     "output_type": "display_data"
    }
   ],
   "source": [
    "# Plot a histogram of query_coverage for the BLAST data\n",
    "data_fwd.query_coverage.hist(bins=100)"
   ]
  },
  {
   "cell_type": "code",
   "execution_count": 8,
   "metadata": {
    "collapsed": false
   },
   "outputs": [
    {
     "data": {
      "text/plain": [
       "<matplotlib.axes._subplots.AxesSubplot at 0x105693390>"
      ]
     },
     "execution_count": 8,
     "metadata": {},
     "output_type": "execute_result"
    },
    {
     "data": {
      "image/png": "[encoded data removed]",
      "text/plain": [
       "<matplotlib.figure.Figure at 0x1056599e8>"
      ]
     },
     "metadata": {},
     "output_type": "display_data"
    }
   ],
   "source": [
    "# Plot a histogram of percentage coverage for the BLAST data\n",
    "data_fwd.subject_coverage.hist(bins=100)"
   ]
  },
  {
   "cell_type": "markdown",
   "metadata": {},
   "source": [
    "<div class=\"alert alert-warning\">\n",
    "<b>QUESTIONS:</b>\n",
    "<ul>\n",
    "<li><b>What size are most one-way best `BLAST` alignments?</b>\n",
    "<li><b>What is the typical query coverage?</b>\n",
    "<li><b>What is the typical subject coverage?</b>\n",
    "<li><b>What is the typical best `BLAST` match identity?</b>\n",
    "</ul>\n",
    "</div>"
   ]
  },
  {
   "cell_type": "markdown",
   "metadata": {},
   "source": [
    "We can view the relationship between query coverage and subject coverage, and query coverage and match identity for these one-way best `BLAST` hits by plotting a 2D histogram, with the helper function `ex02.plot_hist2d()` in the cell below."
   ]
  },
  {
   "cell_type": "code",
   "execution_count": 9,
   "metadata": {
    "collapsed": false
   },
   "outputs": [
    {
     "data": {
      "image/png": "[encoded data removed]",
      "text/plain": [
       "<matplotlib.figure.Figure at 0x105880898>"
      ]
     },
     "metadata": {},
     "output_type": "display_data"
    },
    {
     "data": {
      "image/png": "[encoded data removed]",
      "text/plain": [
       "<matplotlib.figure.Figure at 0x10506c208>"
      ]
     },
     "metadata": {},
     "output_type": "display_data"
    }
   ],
   "source": [
    "# Plot 2D histogram of subject sequence (match) coverage against query\n",
    "# sequence coverag\n",
    "rbbh.plot_hist2d(data_fwd.query_coverage, data_fwd.subject_coverage,\n",
    "                \"one-way query COV\", \"one-way subject COV\", \n",
    "                \"one-way coverage comparison\")\n",
    "rbbh.plot_hist2d(data_fwd.query_coverage, data_fwd.identity,\n",
    "                \"one-way query COV\", \"one-way match PID\", \n",
    "                \"one-way coverage/identity comparison\")"
   ]
  },
  {
   "cell_type": "markdown",
   "metadata": {},
   "source": [
    "<div class=\"alert alert-warning\">\n",
    "<b>QUESTIONS:</b>\n",
    "<ul>\n",
    "<li>**What is the query/subject coverage for most one-way best `BLAST` matches?**\n",
    "<li>**Why do some one-way `BLAST` matches not have the same coverage for query and subject?**\n",
    "<li>**What is the typical query coverage of a high percentage identity match?**\n",
    "<li>**What is the typical query coverage of a low percentage identity match?**\n",
    "</ul>\n",
    "</div>"
   ]
  },
  {
   "cell_type": "markdown",
   "metadata": {},
   "source": [
    "<div class=\"alert alert-danger\" role=\"alert\">\n",
    "<b>QUESTION:</b><br />\n",
    "<b>Do one-way best `BLAST` matches always identify equivalent proteins (<i>orthologs</i>)?</b>\n",
    "</div>"
   ]
  },
  {
   "cell_type": "markdown",
   "metadata": {},
   "source": [
    "## Reciprocal (Two-Way) Best `BLAST` matches (RBBH)\n",
    "\n",
    "To perform a reciprocal BLAST search between two sets of proteins `S1` and `S2` (say), we need to carry out the *forward* search of `S1` vs `S2`, and the *reverse* search `S2` vs `S1`.\n",
    "\n",
    "Reciprocal best `BLAST` matches are those where the sequence `G(S1)` (a gene/CDS from sequence set `S1`) used as a query makes its best `BLAST` match to sequence `G(S2)` (a gene/CDS from sequence set `S2`), and when sequence `G(S2)` is used as a query it makes its best match to sequence `G(S1)` (see figure below).\n",
    "\n",
    "![Schematic of RBBH](images/rbbh.png)"
   ]
  },
  {
   "cell_type": "markdown",
   "metadata": {},
   "source": [
    "We carried out the forward search above, for *P. syringae* B728a (our sequence set `S1`) against *P. fluorescens* NCIMB 11764 (our sequence set `S2`), and now we will carry out the corresponding reverse search by executing the command below at the terminal:\n",
    "\n",
    "```\n",
    "blastp -query data/pseudomonas/GCF_000293885.2_ASM29388v3_protein.faa \\\n",
    "       -db data/pseudomonas_blastp/GCF_000988485.1_ASM98848v1_protein \\\n",
    "       -max_target_seqs 1 \\\n",
    "       -outfmt \"6 qseqid sseqid qlen slen length nident pident qcovs evalue bitscore\" \\\n",
    "       -out data/pseudomonas_blastp/NCIMB_11764_vs_B728a.tab\n",
    "```\n",
    "\n",
    "As before, this would few minutes to complete, so to save some time the comparison has already been made for you, with the result file being placed in `pseudomonas_blastp/NCIMB_11764_vs_B728a.tab`.\n",
    "\n",
    "We'll load the results into a *dataframe* called `data_rev` using the helper function `ex02.read_data()` in the cell below."
   ]
  },
  {
   "cell_type": "code",
   "execution_count": 10,
   "metadata": {
    "collapsed": false
   },
   "outputs": [],
   "source": [
    "# Load one-way BLAST results into a data frame called data_fwd\n",
    "data_rev = rbbh.read_data(\"data/pseudomonas_blastp/NCIMB_11764_vs_B728a.tab\")"
   ]
  },
  {
   "cell_type": "markdown",
   "metadata": {},
   "source": [
    "<div class=\"alert alert-warning\">\n",
    "<b>NOTE:</b> You could inspect <b>data_rev</b> using the <b>.head()</b> and <b>.describe()</b> methods, just as you did for <b>data_fwd</b>\n",
    "</div>"
   ]
  },
  {
   "cell_type": "markdown",
   "metadata": {},
   "source": [
    "The `ex02` module provides a function called `find_rbbh()` which calculates reciprocal best BLAST hits from forward and reverse `BLAST` searches. The calculation can be performed by executing the cell below."
   ]
  },
  {
   "cell_type": "code",
   "execution_count": 11,
   "metadata": {
    "collapsed": true
   },
   "outputs": [],
   "source": [
    "# Calculate RBBH for the two Pseudomonas datasets\n",
    "# This returns three dataframes: df1 and df2 are the forward and reverse BLAST\n",
    "# results (filtered, if any filters were used), and rbbh is the dataframe of\n",
    "# reciprocal best BLAST hits\n",
    "df1, df2, data_rbbh = rbbh.find_rbbh(data_fwd, data_rev)"
   ]
  },
  {
   "cell_type": "markdown",
   "metadata": {},
   "source": [
    "We can inspect the dataframe of RBBH using the `.head()` and `.describe()` methods, by executing the cells below."
   ]
  },
  {
   "cell_type": "code",
   "execution_count": 12,
   "metadata": {
    "collapsed": false
   },
   "outputs": [
    {
     "data": {
      "text/html": [
       "<div>\n",
       "<table border=\"1\" class=\"dataframe\">\n",
       "  <thead>\n",
       "    <tr style=\"text-align: right;\">\n",
       "      <th></th>\n",
       "      <th>query_id_x</th>\n",
       "      <th>subject_id_x</th>\n",
       "      <th>identity_x</th>\n",
       "      <th>identity_y</th>\n",
       "      <th>query_coverage_x</th>\n",
       "      <th>query_coverage_y</th>\n",
       "      <th>subject_coverage_x</th>\n",
       "      <th>subject_coverage_y</th>\n",
       "      <th>bitscore_x</th>\n",
       "      <th>bitscore_y</th>\n",
       "      <th>Evalue_x</th>\n",
       "      <th>Evalue_y</th>\n",
       "    </tr>\n",
       "  </thead>\n",
       "  <tbody>\n",
       "    <tr>\n",
       "      <th>0</th>\n",
       "      <td>WP_002551314.1</td>\n",
       "      <td>WP_031319201.1</td>\n",
       "      <td>91.73</td>\n",
       "      <td>91.73</td>\n",
       "      <td>100.000000</td>\n",
       "      <td>100.000000</td>\n",
       "      <td>100.000000</td>\n",
       "      <td>100.000000</td>\n",
       "      <td>246.0</td>\n",
       "      <td>246.0</td>\n",
       "      <td>3.000000e-85</td>\n",
       "      <td>3.000000e-85</td>\n",
       "    </tr>\n",
       "    <tr>\n",
       "      <th>1</th>\n",
       "      <td>WP_002551326.1</td>\n",
       "      <td>WP_003213601.1</td>\n",
       "      <td>94.32</td>\n",
       "      <td>94.32</td>\n",
       "      <td>100.634921</td>\n",
       "      <td>100.000000</td>\n",
       "      <td>100.000000</td>\n",
       "      <td>100.634921</td>\n",
       "      <td>625.0</td>\n",
       "      <td>625.0</td>\n",
       "      <td>0.000000e+00</td>\n",
       "      <td>0.000000e+00</td>\n",
       "    </tr>\n",
       "    <tr>\n",
       "      <th>2</th>\n",
       "      <td>WP_002551363.1</td>\n",
       "      <td>WP_017341421.1</td>\n",
       "      <td>75.81</td>\n",
       "      <td>75.81</td>\n",
       "      <td>94.416244</td>\n",
       "      <td>96.373057</td>\n",
       "      <td>96.373057</td>\n",
       "      <td>94.416244</td>\n",
       "      <td>244.0</td>\n",
       "      <td>258.0</td>\n",
       "      <td>2.000000e-82</td>\n",
       "      <td>8.000000e-88</td>\n",
       "    </tr>\n",
       "    <tr>\n",
       "      <th>3</th>\n",
       "      <td>WP_002551394.1</td>\n",
       "      <td>WP_017335870.1</td>\n",
       "      <td>96.36</td>\n",
       "      <td>96.36</td>\n",
       "      <td>94.827586</td>\n",
       "      <td>94.827586</td>\n",
       "      <td>94.827586</td>\n",
       "      <td>94.827586</td>\n",
       "      <td>511.0</td>\n",
       "      <td>511.0</td>\n",
       "      <td>0.000000e+00</td>\n",
       "      <td>0.000000e+00</td>\n",
       "    </tr>\n",
       "    <tr>\n",
       "      <th>4</th>\n",
       "      <td>WP_002551454.1</td>\n",
       "      <td>WP_003218037.1</td>\n",
       "      <td>94.42</td>\n",
       "      <td>94.42</td>\n",
       "      <td>100.000000</td>\n",
       "      <td>100.000000</td>\n",
       "      <td>100.000000</td>\n",
       "      <td>100.000000</td>\n",
       "      <td>380.0</td>\n",
       "      <td>380.0</td>\n",
       "      <td>1.000000e-135</td>\n",
       "      <td>9.000000e-136</td>\n",
       "    </tr>\n",
       "  </tbody>\n",
       "</table>\n",
       "</div>"
      ],
      "text/plain": [
       "       query_id_x    subject_id_x  identity_x  identity_y  query_coverage_x  \\\n",
       "0  WP_002551314.1  WP_031319201.1       91.73       91.73        100.000000   \n",
       "1  WP_002551326.1  WP_003213601.1       94.32       94.32        100.634921   \n",
       "2  WP_002551363.1  WP_017341421.1       75.81       75.81         94.416244   \n",
       "3  WP_002551394.1  WP_017335870.1       96.36       96.36         94.827586   \n",
       "4  WP_002551454.1  WP_003218037.1       94.42       94.42        100.000000   \n",
       "\n",
       "   query_coverage_y  subject_coverage_x  subject_coverage_y  bitscore_x  \\\n",
       "0        100.000000          100.000000          100.000000       246.0   \n",
       "1        100.000000          100.000000          100.634921       625.0   \n",
       "2         96.373057           96.373057           94.416244       244.0   \n",
       "3         94.827586           94.827586           94.827586       511.0   \n",
       "4        100.000000          100.000000          100.000000       380.0   \n",
       "\n",
       "   bitscore_y       Evalue_x       Evalue_y  \n",
       "0       246.0   3.000000e-85   3.000000e-85  \n",
       "1       625.0   0.000000e+00   0.000000e+00  \n",
       "2       258.0   2.000000e-82   8.000000e-88  \n",
       "3       511.0   0.000000e+00   0.000000e+00  \n",
       "4       380.0  1.000000e-135  9.000000e-136  "
      ]
     },
     "execution_count": 12,
     "metadata": {},
     "output_type": "execute_result"
    }
   ],
   "source": [
    "# Peek at the first few lines of the RBBH results\n",
    "data_rbbh.head()"
   ]
  },
  {
   "cell_type": "code",
   "execution_count": 13,
   "metadata": {
    "collapsed": false
   },
   "outputs": [
    {
     "data": {
      "text/html": [
       "<div>\n",
       "<table border=\"1\" class=\"dataframe\">\n",
       "  <thead>\n",
       "    <tr style=\"text-align: right;\">\n",
       "      <th></th>\n",
       "      <th>identity_x</th>\n",
       "      <th>identity_y</th>\n",
       "      <th>query_coverage_x</th>\n",
       "      <th>query_coverage_y</th>\n",
       "      <th>subject_coverage_x</th>\n",
       "      <th>subject_coverage_y</th>\n",
       "      <th>bitscore_x</th>\n",
       "      <th>bitscore_y</th>\n",
       "      <th>Evalue_x</th>\n",
       "      <th>Evalue_y</th>\n",
       "    </tr>\n",
       "  </thead>\n",
       "  <tbody>\n",
       "    <tr>\n",
       "      <th>count</th>\n",
       "      <td>3535.000000</td>\n",
       "      <td>3535.000000</td>\n",
       "      <td>3535.000000</td>\n",
       "      <td>3535.000000</td>\n",
       "      <td>3535.000000</td>\n",
       "      <td>3535.000000</td>\n",
       "      <td>3535.000000</td>\n",
       "      <td>3535.000000</td>\n",
       "      <td>3.535000e+03</td>\n",
       "      <td>3.535000e+03</td>\n",
       "    </tr>\n",
       "    <tr>\n",
       "      <th>mean</th>\n",
       "      <td>75.608518</td>\n",
       "      <td>75.605519</td>\n",
       "      <td>96.491999</td>\n",
       "      <td>96.427486</td>\n",
       "      <td>96.406108</td>\n",
       "      <td>96.517690</td>\n",
       "      <td>497.937115</td>\n",
       "      <td>498.246704</td>\n",
       "      <td>6.220469e-03</td>\n",
       "      <td>6.569461e-03</td>\n",
       "    </tr>\n",
       "    <tr>\n",
       "      <th>std</th>\n",
       "      <td>17.037202</td>\n",
       "      <td>17.026326</td>\n",
       "      <td>11.426042</td>\n",
       "      <td>12.091670</td>\n",
       "      <td>12.046244</td>\n",
       "      <td>11.500334</td>\n",
       "      <td>375.018657</td>\n",
       "      <td>375.116295</td>\n",
       "      <td>9.138723e-02</td>\n",
       "      <td>1.097458e-01</td>\n",
       "    </tr>\n",
       "    <tr>\n",
       "      <th>min</th>\n",
       "      <td>20.970000</td>\n",
       "      <td>20.970000</td>\n",
       "      <td>5.509182</td>\n",
       "      <td>3.730018</td>\n",
       "      <td>3.730018</td>\n",
       "      <td>5.509182</td>\n",
       "      <td>23.100000</td>\n",
       "      <td>23.100000</td>\n",
       "      <td>0.000000e+00</td>\n",
       "      <td>0.000000e+00</td>\n",
       "    </tr>\n",
       "    <tr>\n",
       "      <th>25%</th>\n",
       "      <td>68.180000</td>\n",
       "      <td>68.105000</td>\n",
       "      <td>98.058232</td>\n",
       "      <td>98.380098</td>\n",
       "      <td>98.378378</td>\n",
       "      <td>98.097243</td>\n",
       "      <td>240.500000</td>\n",
       "      <td>241.000000</td>\n",
       "      <td>0.000000e+00</td>\n",
       "      <td>0.000000e+00</td>\n",
       "    </tr>\n",
       "    <tr>\n",
       "      <th>50%</th>\n",
       "      <td>80.310000</td>\n",
       "      <td>80.300000</td>\n",
       "      <td>100.000000</td>\n",
       "      <td>100.000000</td>\n",
       "      <td>100.000000</td>\n",
       "      <td>99.919290</td>\n",
       "      <td>424.000000</td>\n",
       "      <td>426.000000</td>\n",
       "      <td>3.000000e-150</td>\n",
       "      <td>4.000000e-151</td>\n",
       "    </tr>\n",
       "    <tr>\n",
       "      <th>75%</th>\n",
       "      <td>87.980000</td>\n",
       "      <td>87.990000</td>\n",
       "      <td>100.000000</td>\n",
       "      <td>100.000000</td>\n",
       "      <td>100.000000</td>\n",
       "      <td>100.000000</td>\n",
       "      <td>654.000000</td>\n",
       "      <td>655.000000</td>\n",
       "      <td>1.000000e-80</td>\n",
       "      <td>5.500000e-81</td>\n",
       "    </tr>\n",
       "    <tr>\n",
       "      <th>max</th>\n",
       "      <td>100.000000</td>\n",
       "      <td>100.000000</td>\n",
       "      <td>128.000000</td>\n",
       "      <td>119.727891</td>\n",
       "      <td>120.560748</td>\n",
       "      <td>128.000000</td>\n",
       "      <td>6872.000000</td>\n",
       "      <td>6873.000000</td>\n",
       "      <td>2.400000e+00</td>\n",
       "      <td>3.500000e+00</td>\n",
       "    </tr>\n",
       "  </tbody>\n",
       "</table>\n",
       "</div>"
      ],
      "text/plain": [
       "        identity_x   identity_y  query_coverage_x  query_coverage_y  \\\n",
       "count  3535.000000  3535.000000       3535.000000       3535.000000   \n",
       "mean     75.608518    75.605519         96.491999         96.427486   \n",
       "std      17.037202    17.026326         11.426042         12.091670   \n",
       "min      20.970000    20.970000          5.509182          3.730018   \n",
       "25%      68.180000    68.105000         98.058232         98.380098   \n",
       "50%      80.310000    80.300000        100.000000        100.000000   \n",
       "75%      87.980000    87.990000        100.000000        100.000000   \n",
       "max     100.000000   100.000000        128.000000        119.727891   \n",
       "\n",
       "       subject_coverage_x  subject_coverage_y   bitscore_x   bitscore_y  \\\n",
       "count         3535.000000         3535.000000  3535.000000  3535.000000   \n",
       "mean            96.406108           96.517690   497.937115   498.246704   \n",
       "std             12.046244           11.500334   375.018657   375.116295   \n",
       "min              3.730018            5.509182    23.100000    23.100000   \n",
       "25%             98.378378           98.097243   240.500000   241.000000   \n",
       "50%            100.000000           99.919290   424.000000   426.000000   \n",
       "75%            100.000000          100.000000   654.000000   655.000000   \n",
       "max            120.560748          128.000000  6872.000000  6873.000000   \n",
       "\n",
       "            Evalue_x       Evalue_y  \n",
       "count   3.535000e+03   3.535000e+03  \n",
       "mean    6.220469e-03   6.569461e-03  \n",
       "std     9.138723e-02   1.097458e-01  \n",
       "min     0.000000e+00   0.000000e+00  \n",
       "25%     0.000000e+00   0.000000e+00  \n",
       "50%    3.000000e-150  4.000000e-151  \n",
       "75%     1.000000e-80   5.500000e-81  \n",
       "max     2.400000e+00   3.500000e+00  "
      ]
     },
     "execution_count": 13,
     "metadata": {},
     "output_type": "execute_result"
    }
   ],
   "source": [
    "# Show summary statistics for RBBH\n",
    "data_rbbh.describe()"
   ]
  },
  {
   "cell_type": "markdown",
   "metadata": {},
   "source": [
    "It is inevitable that the RBBH set will have the same or fewer protein pairs in it, than the number of proteins in the smallest of the forward and reverse protein sets. But how many proteins have been filtered in this comparison? We can find out by executing the cell below."
   ]
  },
  {
   "cell_type": "code",
   "execution_count": 14,
   "metadata": {
    "collapsed": false
   },
   "outputs": [
    {
     "name": "stdout",
     "output_type": "stream",
     "text": [
      "Forward BLAST input: 5256 proteins\n",
      "Reverse BLAST input: 6371 proteins\n",
      "RBBH output: 3535 proteins\n",
      "(min difference = 1721)\n"
     ]
    }
   ],
   "source": [
    "# Report the size of each of the forward and reverse input, and rbbh output dataframes\n",
    "s = '\\n'.join([\"Forward BLAST input: {0} proteins\",\n",
    "               \"Reverse BLAST input: {1} proteins\",\n",
    "               \"RBBH output: {2} proteins\"])\n",
    "print(s.format(len(data_fwd), len(data_rev), len(data_rbbh)))\n",
    "print(\"(min difference = {0})\".format(min(len(data_fwd), len(data_rev)) - len(data_rbbh)))"
   ]
  },
  {
   "cell_type": "markdown",
   "metadata": {},
   "source": [
    "<div class=\"alert alert-warning\">\n",
    "<b>Approximately what proportion of best <b>BLAST</b> matches have been discarded?</b>\n",
    "</div>"
   ]
  },
  {
   "cell_type": "markdown",
   "metadata": {},
   "source": [
    "### Visualising RBBH output\n",
    "We can get a better idea of what this processing has done by looking at a visual representation of the percentage identity and coverage of RBBH, compared to the (forward) one-way matches. We can do this by executing the cells below.\n",
    "\n",
    "First, let's look at the percentage identity of best `BLAST` matches:"
   ]
  },
  {
   "cell_type": "code",
   "execution_count": 15,
   "metadata": {
    "collapsed": false
   },
   "outputs": [
    {
     "data": {
      "text/plain": [
       "<matplotlib.axes._subplots.AxesSubplot at 0x105e27630>"
      ]
     },
     "execution_count": 15,
     "metadata": {},
     "output_type": "execute_result"
    },
    {
     "data": {
      "image/png": "[encoded data removed]",
      "text/plain": [
       "<matplotlib.figure.Figure at 0x105db60f0>"
      ]
     },
     "metadata": {},
     "output_type": "display_data"
    }
   ],
   "source": [
    "# Histogram of forward match percentage identity (one-way)\n",
    "data_fwd.identity.hist(bins=100)"
   ]
  },
  {
   "cell_type": "code",
   "execution_count": 16,
   "metadata": {
    "collapsed": false
   },
   "outputs": [
    {
     "data": {
      "text/plain": [
       "<matplotlib.axes._subplots.AxesSubplot at 0x10655f668>"
      ]
     },
     "execution_count": 16,
     "metadata": {},
     "output_type": "execute_result"
    },
    {
     "data": {
      "image/png": "[encoded data removed]",
      "text/plain": [
       "<matplotlib.figure.Figure at 0x106569898>"
      ]
     },
     "metadata": {},
     "output_type": "display_data"
    }
   ],
   "source": [
    "# Histogram of forward match percentage identity (RBBH)\n",
    "data_rbbh.identity_x.hist(bins=100)"
   ]
  },
  {
   "cell_type": "markdown",
   "metadata": {},
   "source": [
    "<div class=\"alert alert-warning\">\n",
    "<b>What has been the effect of excluding best matches that do not have an RBBH reverse match?</b>\n",
    "</div>"
   ]
  },
  {
   "cell_type": "markdown",
   "metadata": {},
   "source": [
    "Next, we can inspect the query and subject coverage of RBBH results, compared to the one-way forward `BLAST` matches by executing the cell below."
   ]
  },
  {
   "cell_type": "code",
   "execution_count": 17,
   "metadata": {
    "collapsed": false
   },
   "outputs": [
    {
     "data": {
      "image/png": "[encoded data removed]",
      "text/plain": [
       "<matplotlib.figure.Figure at 0x1067ffb38>"
      ]
     },
     "metadata": {},
     "output_type": "display_data"
    },
    {
     "data": {
      "image/png": "[encoded data removed]",
      "text/plain": [
       "<matplotlib.figure.Figure at 0x10691d6a0>"
      ]
     },
     "metadata": {},
     "output_type": "display_data"
    }
   ],
   "source": [
    "# Plot 2D histograms of query coverage against subject coverage for the \n",
    "# one-way forward matches, and those retained after calculating RBBH\n",
    "rbbh.plot_hist2d(data_fwd.query_coverage, data_fwd.subject_coverage,\n",
    "                      \"one-way query COV\", \"one-way subject COV\", \n",
    "                      \"one-way coverage comparison\")\n",
    "rbbh.plot_hist2d(data_rbbh.query_coverage_x, data_rbbh.subject_coverage_x,\n",
    "                      \"RBBH (fwd) query COV\", \"RBBH (fwd) subject COV\", \n",
    "                      \"RBBH_comparisons.ipynbH coverage comparison\")"
   ]
  },
  {
   "cell_type": "markdown",
   "metadata": {},
   "source": [
    "<div class=\"alert alert-warning\">\n",
    "<ul>\n",
    "<li><b>Which one-way matches have been excluded by carrying out RBBH?</b><br />\n",
    "<li><b>What is the biological significance of excluding those matches?</b>\n",
    "<li><b>What would be a reasonable filter to exclude the remaining suspect matches?</b>\n",
    "</ul>\n",
    "</div>"
   ]
  },
  {
   "cell_type": "markdown",
   "metadata": {},
   "source": [
    "### Filtering RBBH output\n",
    "The `find_rbbh()` function allows us to apply cutoff filters on percentage identity or coverage (or both) for an RBBH match - this, and visualisation of the results is done in the cells below.\n",
    "\n",
    "<div class=\"alert alert-warning\">\n",
    "<b>NOTE:</b> There is a software tool (<a href=\"https://github.com/cboursnell/crb-blast\"><b>CRB-BLAST</b></a> - Conditional Reciprocal Best BLAST) available that calculates reciprocal best matches, and statistically evaluates an 'optimal' E-value cutoff, in order to improve accuracy of ortholog assignment.\n",
    "</div>"
   ]
  },
  {
   "cell_type": "code",
   "execution_count": 18,
   "metadata": {
    "collapsed": false
   },
   "outputs": [
    {
     "data": {
      "text/plain": [
       "<matplotlib.axes._subplots.AxesSubplot at 0x105b412e8>"
      ]
     },
     "execution_count": 18,
     "metadata": {},
     "output_type": "execute_result"
    },
    {
     "data": {
      "image/png": "[encoded data removed]",
      "text/plain": [
       "<matplotlib.figure.Figure at 0x1057e7f60>"
      ]
     },
     "metadata": {},
     "output_type": "display_data"
    }
   ],
   "source": [
    "# Calculate ID and coverage-filtered RBBH for the two Pseudomonas datasets\n",
    "# This returns three dataframes: df1_filtered and df2_filtered are the \n",
    "# filtered forward and reverse BLAST results , and rbbh_filtered is the\n",
    "# dataframe of reciprocal best BLAST hits\n",
    "df1_filtered, df2_filtered, rbbh_filtered = rbbh.find_rbbh(data_fwd, data_rev, pid=40, cov=70)\n",
    "\n",
    "# Histogram of forward match percentage identity (RBBH, filtered)\n",
    "rbbh_filtered.identity_x.hist(bins=100)"
   ]
  },
  {
   "cell_type": "code",
   "execution_count": 19,
   "metadata": {
    "collapsed": false,
    "scrolled": true
   },
   "outputs": [
    {
     "data": {
      "image/png": "[encoded data removed]",
      "text/plain": [
       "<matplotlib.figure.Figure at 0x105a019e8>"
      ]
     },
     "metadata": {},
     "output_type": "display_data"
    }
   ],
   "source": [
    "# Plot 2D histograms of query coverage against subject coverage for the \n",
    "# one-way forward matches retained after calculating RBBH and\n",
    "# filtering on percentage identity and coverage\n",
    "rbbh.plot_hist2d(rbbh_filtered.query_coverage_x, rbbh_filtered.subject_coverage_x,\n",
    "                \"filtered RBBH (fwd) query COV\", \"filtered_RBBH (fwd) subject COV\", \n",
    "                \"filtered RBBH coverage comparison\")"
   ]
  },
  {
   "cell_type": "markdown",
   "metadata": {},
   "source": [
    "### Visualising RBBH with `ACT`\n",
    "\n",
    "Finally for this exercise, we will visualise the RBBH between *P. syringae* B728a and *P. fluorescens* NCIMB 11764 using `ACT` (as in exercise 01), comparing the output to that obtained by a `BLASTN` comparison of the chromosomes."
   ]
  },
  {
   "cell_type": "markdown",
   "metadata": {},
   "source": [
    "First, we need to generate an output file describing our (filtered) RBBH that `ACT` can read. We do this by executing the cell below. This does two things:\n",
    "\n",
    "* Gets the locations of protein features on the chromosome of each organism from a `.gbff` file, using the helper function `read_genbank()`, putting them in a variable called `features`.\n",
    "* Writes the RBBH to a `.crunch` format file (`pseudomonas_blastp/B728a_rbbh_NCIMB_11764.crunch`), which `ACT` can read.\n"
   ]
  },
  {
   "cell_type": "code",
   "execution_count": 20,
   "metadata": {
    "collapsed": false
   },
   "outputs": [
    {
     "name": "stdout",
     "output_type": "stream",
     "text": [
      "Loaded 11197 features\n",
      "Wrote file to data/pseudomonas_blastp/B728a_rbbh_NCIMB_11764.crunch\n"
     ]
    }
   ],
   "source": [
    "# Read feature locations for each Pseudomonas file\n",
    "features = rbbh.read_genbank(\"data/pseudomonas/GCF_000988485.1_ASM98848v1_genomic.gbff\",\n",
    "                             \"data/pseudomonas/GCF_000293885.2_ASM29388v3_genomic.gbff\")\n",
    "\n",
    "# Write a .crunch file of filtered RBBH for the Pseudomonas comparisons\n",
    "rbbh.write_crunch(rbbh_filtered, features,\n",
    "                  fwd=\"GCF_000988485.1_ASM98848v1_genomic\",\n",
    "                  rev=\"GCF_000293885.2_ASM29388v3_genomic\",\n",
    "                  outdir=\"data/pseudomonas_blastp\",\n",
    "                  filename=\"B728a_rbbh_NCIMB_11764.crunch\")"
   ]
  },
  {
   "cell_type": "markdown",
   "metadata": {},
   "source": [
    "Now we can load the two genome sequences, a `BLASTN` comparison, and the RBBH comparisons into `ACT`.\n",
    "\n",
    "If `ACT` is not already running, we start it at the terminal with:\n",
    "\n",
    "```\n",
    "act &\n",
    "```\n",
    "\n",
    "and open the file dialog, expanding it to show five fields, as in the previous exercise. First, select `File -> Open` to bring up the file selection dialog box.\n",
    "\n",
    "![Empty ACT file selection dialog, 3 fields](images/act1.png)\n",
    "\n",
    "Then click on the `more files...` button once, to give us two more fields.\n",
    "\n",
    "![Empty ACT file selection dialog, 5 fields](images/act2.png)\n",
    "\n",
    "Now we add the sequence files, placing the *P. syringae* B728a genome sequence (`data/pseudomonas/GCF_000988485.1_ASM98848v1_genomic.fna`) in `Sequence file 2`, and the *P. fluorescens* NCIMB 11764 genome (`data/pseudomonas/GCF_000293885.2_ASM29388v3_genomic.fna`) in two slots: `Sequence file 1` and `Sequence file 3`, as shown.\n",
    "\n",
    "![](images/act6.png)\n",
    "\n",
    "Next, we add the RBBH output file `data/pseudomonas_blastp/B728a_rbbh_NCIMB_11764.crunch` to the field `Comparison file 1`:\n",
    "\n",
    "![](images/act7.png)\n",
    "\n",
    "And finally, we use a `BLASTN` comparison file (`data/pseudomonas_blastn/B728a_blastn_NCIMB_11764.tab`) comparing these two genomes, adding it to the field `Comparison file 2`:\n",
    "\n",
    "![](images/act8.png)\n",
    "\n",
    "and then click on the `Apply` button. This produces the initial alignment:\n",
    "\n",
    "![](images/act9.png)\n",
    "\n",
    "which we can zoom in on to inspect differences between the `BLASTN` and `BLASTP` comparisons.\n",
    "\n",
    "![](images/act10.png)"
   ]
  },
  {
   "cell_type": "markdown",
   "metadata": {},
   "source": [
    "<div class=\"alert alert-warning\">\n",
    "<ul>\n",
    "<li><b>How do the BLASTN and RBBH alignments compare to each other, in general?</b><br />\n",
    "<li><b>What kinds of differences are there?</b>\n",
    "<li><b>What sorts of biologically useful information can you get from each alignment that is not available from the other alignment?</b>\n",
    "<li><b>When is RBBH an appropriate comparison, and when is whole-genome alignment an appropriate comparison?</b>\n",
    "</ul>\n",
    "</div>"
   ]
  }
 ],
 "metadata": {
  "kernelspec": {
   "display_name": "Python 3",
   "language": "python",
   "name": "python3"
  },
  "language_info": {
   "codemirror_mode": {
    "name": "ipython",
    "version": 3
   },
   "file_extension": ".py",
   "mimetype": "text/x-python",
   "name": "python",
   "nbconvert_exporter": "python",
   "pygments_lexer": "ipython3",
   "version": "3.5.1"
  },
  "widgets": {
   "state": {},
   "version": "1.1.1"
  }
 },
 "nbformat": 4,
 "nbformat_minor": 0
}
