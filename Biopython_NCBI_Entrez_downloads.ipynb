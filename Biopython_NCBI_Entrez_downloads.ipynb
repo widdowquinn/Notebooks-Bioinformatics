{
 "cells": [
  {
   "cell_type": "markdown",
   "metadata": {},
   "source": [
    "# Downloading genome data from NCBI with `Biopython` and `Entrez`"
   ]
  },
  {
   "cell_type": "markdown",
   "metadata": {},
   "source": [
    "## Introduction\n",
    "\n",
    "In this worksheet, you will use [`Biopython`](http://biopython.org/) to download pathogen genome data from [`NCBI`](http://www.ncbi.nlm.nih.gov/) programmatically with Python. \n",
    "\n",
    "It is possible to obtain the same data by point-and-click from a browser, at the terminal using a program like `wget`, or by other means, but scripting data downloads in this way has advantages, such as:\n",
    "\n",
    "* **automation** - only one script is required to download many sequences\n",
    "* **reproducibility** - the same data will be downloaded each time, and copy-paste errors will be avoided\n",
    "* **self-documentation** - the script itself describes exactly how the data was obtained\n",
    "* **future adaptability (and reuse)** - only minor changes to the script may be required for the next analysis or project"
   ]
  },
  {
   "cell_type": "markdown",
   "metadata": {},
   "source": [
    "<div class=\"alert alert-warning\">\n",
    "<b>Note: large data sets</b>: if you wish to download large datasets, then using <b>wget</b>, <b>ftp</b> or other methods can be better than programmatic access <i>via</i> <b>Entrez</b>. The <b>Entrez</b> interface may give errors partway through large downloads, and is not designed for large data transfers.\n",
    "</div>"
   ]
  },
  {
   "cell_type": "markdown",
   "metadata": {},
   "source": [
    "This Jupyter notebook provides some examples of scripting genome downloads from `NCBI` singly, and in groups. This method of obtaining genome data uses the [`Entrez`](http://www.ncbi.nlm.nih.gov/Class/MLACourse/Original8Hour/Entrez/) interface that NCBI provides for automated querying of its data."
   ]
  },
  {
   "cell_type": "markdown",
   "metadata": {},
   "source": [
    "## Running cells in this notebook\n",
    "\n",
    "This is an interactive notebook, which means you are able to run the code that is written in each of the cells.\n",
    "\n",
    "<div class=\"alert alert-info\" role=\"alert\">\n",
    "To run the code in a cell, you should:\n",
    "<ol>\n",
    "<li>Place your mouse cursor in the cell, and click (this gives the cell <i>focus</i>) to make it active\n",
    "<li>Hold down the <b>Shift</b> key, and press the <b>Return<b> key.\n",
    "</ol>\n",
    "</div>\n",
    "\n",
    "If this is successful, you should see the input marker to the left of the cell change from\n",
    "\n",
    "```\n",
    "In [ ]:\n",
    "```\n",
    "\n",
    "to (for example)\n",
    "\n",
    "```\n",
    "In [1]:\n",
    "```\n",
    "\n",
    "and you may see output appear below the cell."
   ]
  },
  {
   "cell_type": "markdown",
   "metadata": {},
   "source": [
    "### Related online documentation\n",
    "\n",
    "* `Biopython` tutorial for `Entrez`: [http://biopython.org/DIST/docs/tutorial/Tutorial.html#htoc109](http://biopython.org/DIST/docs/tutorial/Tutorial.html#htoc109)\n",
    "* `Biopython` technical documentation for `Bio.Entrez`: [http://biopython.org/DIST/docs/api/Bio.Entrez-module.html](http://biopython.org/DIST/docs/api/Bio.Entrez-module.html)\n",
    "* `Entrez` introductory documentation at `NCBI`: [http://www.ncbi.nlm.nih.gov/books/NBK25497/](http://www.ncbi.nlm.nih.gov/books/NBK25497/)\n",
    "* `Entrez` help: [http://www.ncbi.nlm.nih.gov/books/NBK3837/](http://www.ncbi.nlm.nih.gov/books/NBK3837/)\n",
    "* `Entrez` Quick Start Guide: [http://www.ncbi.nlm.nih.gov/books/NBK25500/](http://www.ncbi.nlm.nih.gov/books/NBK25500/)"
   ]
  },
  {
   "cell_type": "markdown",
   "metadata": {},
   "source": [
    "### Requirements\n",
    "\n",
    "<div class=\"alert alert-success\">\n",
    "To complete this worksheet, you will need:\n",
    "<ul>\n",
    "<li>an active internet connection\n",
    "<li>the <b>Biopython</b> libraries\n",
    "</ul>\n",
    "</div>"
   ]
  },
  {
   "cell_type": "markdown",
   "metadata": {},
   "source": [
    "## `Entrez`\n",
    "\n",
    "[`Entrez`](http://www.ncbi.nlm.nih.gov/Class/MLACourse/Original8Hour/Entrez/) is the name `NCBI` give to the tools they provide as a computational interface to the data they hold across their genomic and other databases (e.g. `PubMed`). Many scripts and programs that interact with `NCBI` to download data (e.g. from GenBank or RefSeq) will be using this set of tools."
   ]
  },
  {
   "cell_type": "markdown",
   "metadata": {},
   "source": [
    "<div class=\"alert alert-warning\">\n",
    "<b>Caveats</b>\n",
    "<br />\n",
    "There are usage caps for this service, and it is possible to over-use <b>Entrez</b>. If this happens, you or your IP address may be blacklisted. In order to avoid this, you should keep to the following guidelines:\n",
    "<br />\n",
    "<ul>\n",
    "<li> Make no more than three URL requests per second\n",
    "<li> Make large queries outwith the hours of 0900-1700 EST (1400-2200 GMT)\n",
    "<li> Provide your email address as an identifier when querying\n",
    "</ul>\n",
    "<br />\n",
    "Programming libraries, such as <b>Biopython</b>'s <b>Bio.Entrez</b> module, will usually help you stay within those guidelines by limiting the frequency of queries, and insisting that you provide an email address.\n",
    "</div>"
   ]
  },
  {
   "cell_type": "markdown",
   "metadata": {},
   "source": [
    "## `Biopython` and `Bio.Entrez` <img src=\"images/biopython_small.jpg\" style=\"width: 150px; float: right;\">\n",
    "\n",
    "[`Biopython`](http://biopython.org/) is a widely-used library, providing bioinformatics tools for the popular [Python](https://www.python.org/) programming language. Similar libraries exist for other programming languages.\n",
    "\n",
    "`Bio.Entrez` is a module of `Biopython` that provides tools to make queries against the `NCBI` databases using the `Entrez` interface."
   ]
  },
  {
   "cell_type": "markdown",
   "metadata": {},
   "source": [
    "## 1. Connecting to `NCBI`\n",
    "\n",
    "In order to use the `Bio.Entrez` module, you need to *import* it. This is how modules become available for use in Python."
   ]
  },
  {
   "cell_type": "markdown",
   "metadata": {},
   "source": [
    "<div class=\"alert alert-info\" role=\"alert\">\n",
    "It is good practice at this point to specify your email, so that <b>NCBI</b> can contact you in case of problems (or if you are likely to become blacklisted through excessive use).\n",
    "\n",
    "It is also good practice to specify a '<b>tool</b>' that is the script making the call.\n",
    "</div>"
   ]
  },
  {
   "cell_type": "code",
   "execution_count": null,
   "metadata": {
    "collapsed": false
   },
   "outputs": [],
   "source": [
    "# This line imports the Bio.Entrez module, and makes it available\n",
    "# as 'Entrez'.\n",
    "from Bio import Entrez\n",
    "\n",
    "# The line below imports the Bio.SeqIO module, which allows reading\n",
    "# and writing of common bioinformatics sequence formats.\n",
    "from Bio import SeqIO\n",
    "\n",
    "# Create a new directory (if needed) for output/downloads\n",
    "import os\n",
    "outdir = \"ncbi_downloads\"\n",
    "os.makedirs(outdir, exist_ok=True)\n",
    "\n",
    "# This line sets the variable 'Entrez.email' to the specified\n",
    "# email address. You should substitute your own address for the\n",
    "# example address provided below. Please do not provide a\n",
    "# fake name.\n",
    "Entrez.email = \"Fakey.McFakename@example.com\"\n",
    "\n",
    "# This line sets the name of the tool that is making the queries\n",
    "Entrez.tool = \"Biopython_NCBI_Entrez_downloads.ipynb\""
   ]
  },
  {
   "cell_type": "markdown",
   "metadata": {},
   "source": [
    "## 2. Using `Bio.Entrez` to list available databases\n",
    "\n",
    "When you send a query or request to `NCBI` using `Bio.Entrez`, the remote service will send back data in [XML](https://en.wikipedia.org/wiki/XML) format. This is a file format designed to be easy for computers to read, but is very verbose and difficult to read for humans.\n",
    "\n",
    "The `Bio.Entrez` module can `read()` this data so that you can extract useful information.\n",
    "\n",
    "In the example below, you will ask `NCBI` for a list of the databases you can search by using the `Entrez.einfo()` function. This will return a *handle* containing the XML response from `NCBI`. This will be *read* into a record that you can inspect and manipulate, by the `Entrez.read()` function."
   ]
  },
  {
   "cell_type": "code",
   "execution_count": null,
   "metadata": {
    "collapsed": true
   },
   "outputs": [],
   "source": [
    "# The line below uses the Entrez.einfo() function to\n",
    "# ask NCBI what databases are available. The result is\n",
    "# 'stored' in a variable called 'handle'\n",
    "handle = Entrez.einfo()\n",
    "\n",
    "# In the line below, the response from NCBI is read\n",
    "# into a record, that organises NCBI's response into\n",
    "# something you can work with.\n",
    "record = Entrez.read(handle)"
   ]
  },
  {
   "cell_type": "markdown",
   "metadata": {},
   "source": [
    "The variable `record` contains a list of the available databases at `NCBI`, which you can see by executing the cell below:"
   ]
  },
  {
   "cell_type": "code",
   "execution_count": null,
   "metadata": {
    "collapsed": false
   },
   "outputs": [],
   "source": [
    "print(record[\"DbList\"])"
   ]
  },
  {
   "cell_type": "markdown",
   "metadata": {},
   "source": [
    "You may recognise some of the database names, such as `pubmed`, `nuccore`, `assembly`, `sra`, and `taxonomy`.\n",
    "\n",
    "`Entrez` allows you to query these databases using `Entrez.esearch()` in much the same way that you just obtained the list of databases with `Entrez.einfo()`."
   ]
  },
  {
   "cell_type": "markdown",
   "metadata": {},
   "source": [
    "## 3. Using `Bio.Entrez` to find genome assemblies at `NCBI`\n",
    "\n",
    "In the cells below, you will use `Bio.Entrez` to identify assemblies for the bacterial plant pathogen *Ralstonia solanacearum*. As our interest is genome data, we will query against the [`assembly`](http://www.ncbi.nlm.nih.gov/assembly) database at `NCBI`. This database contains entries for all genome assemblies, whether complete or draft.\n",
    "\n",
    "We are interested in *Ralstonia solanacearum*, so will search against the `assembly` database with the text `\"Ralstonia solanacearum\"` as a query. The function that allows us to do this is `Entrez.esearch()`. By default, searches are limited to 20 results (as on the `NCBI` webpage), but we can change this."
   ]
  },
  {
   "cell_type": "code",
   "execution_count": null,
   "metadata": {
    "collapsed": true
   },
   "outputs": [],
   "source": [
    "# The line below carries out a search of the `assembly` database at NCBI,\n",
    "# using the phrase `Ralstonia solanacearum` as the search query,\n",
    "# and asks NCBI to return up to the first 100 results\n",
    "handle = Entrez.esearch(db=\"assembly\", term=\"Ralstonia solanacearum\", retmax=100)\n",
    "\n",
    "# This line converts the returned information from NCBI into a form we\n",
    "# can use, as before.\n",
    "record = Entrez.read(handle)"
   ]
  },
  {
   "cell_type": "markdown",
   "metadata": {},
   "source": [
    "The returned information can be viewed by running the cell below.\n",
    "\n",
    "The output may look confusing at first, but it simply describes the database identifiers that uniquely identify the assemblies present in the `assembly` database that correspond to the query we made, and a few other pieces of information (number of returned entries, total number of entries that could have been returned, how the query was processed) that we do not need, right now."
   ]
  },
  {
   "cell_type": "code",
   "execution_count": null,
   "metadata": {
    "collapsed": false
   },
   "outputs": [],
   "source": [
    "# This line prints the downloaded information from NCBI, so\n",
    "# we can read it.\n",
    "print(record)"
   ]
  },
  {
   "cell_type": "markdown",
   "metadata": {},
   "source": [
    "For now, we are interested in the list of database identifiers, in `record['IdList']`. We will use these to get information from the `assembly` database.\n",
    "\n",
    "We will look at a single record first, and then consider how to get all the *Ralstonia* genomes at the same time."
   ]
  },
  {
   "cell_type": "markdown",
   "metadata": {},
   "source": [
    "## 4. Downloading a single genome from `NCBI`\n",
    "\n",
    "In this section, you will use one of the database identifiers returned from your search at `NCBI` to identify and download the GenBank records corresponding to a single assembly of *Ralstonia solanacearum*.\n",
    "\n",
    "To do this, we will select a single accession from the list in `record[\"IdList\"]`, using the code in the cell below. "
   ]
  },
  {
   "cell_type": "markdown",
   "metadata": {},
   "source": [
    "<div class=\"alert alert-danger\" role=\"alert\">\n",
    "Although this is a single assembly, with a single accession ID, we shall see that we need to download more than one sequence to cover the complete genome.\n",
    "</div>"
   ]
  },
  {
   "cell_type": "code",
   "execution_count": null,
   "metadata": {
    "collapsed": false
   },
   "outputs": [],
   "source": [
    "# The line below takes the first value in the list of \n",
    "# database accessions record[\"IdList\"], and places it in\n",
    "# the variable 'accession'\n",
    "accession = record[\"IdList\"][0]\n",
    "\n",
    "# Show the contents of the variable 'accession'\n",
    "print(accession)"
   ]
  },
  {
   "cell_type": "markdown",
   "metadata": {},
   "source": [
    "### Linking across databases\n",
    "\n",
    "<div class=\"alert alert-info\" role=\"alert\">\n",
    "There is a complicating factor: assemblies may not be a single complete sequence, and could comprise several contigs, or a chromosome and several extrachromosomal elements, all annotated independently. These are stored independently in a different database, called <b>nucleotide</b>, and each has an individual accession. \n",
    "<br/><br />\n",
    "We need to <i>link</i> the <b>assembly</b> accession to each of the <b>nucleotide</b> accessions.\n",
    "<br/><br />\n",
    "This is a common requirement when querying <b>NCBI</b> databases, and is achieved using the <b>Entrez.elink()</b> function.\n",
    "</div>\n",
    "\n",
    "We need to specify the database for which we have the accession (or `UID`), and which database we want to query for related records (in this case, `nucleotide`)."
   ]
  },
  {
   "cell_type": "code",
   "execution_count": null,
   "metadata": {
    "collapsed": false
   },
   "outputs": [],
   "source": [
    "# The line below requests the identifiers (UIDs) for all\n",
    "# records in the `nucleotide` database that correspond to the\n",
    "# assembly UID that is stored in the variable 'accession'\n",
    "handle = Entrez.elink(dbfrom=\"assembly\", db=\"nucleotide\",\n",
    "                     from_uid=accession)\n",
    "\n",
    "# We place the downloaded information in the variable 'links'\n",
    "links = Entrez.read(handle)"
   ]
  },
  {
   "cell_type": "markdown",
   "metadata": {},
   "source": [
    "The `links` variable may contain links to more than one version of the genome (`NCBI` keep third-party managed genome data in GenBank/INSDC records, and `NCBI`-'owned' data in RefSeq records). \n",
    "\n",
    "The function below extracts only the INSDC information from the `Elink()` query. It is ***not*** important that you understand the code."
   ]
  },
  {
   "cell_type": "code",
   "execution_count": null,
   "metadata": {
    "collapsed": true
   },
   "outputs": [],
   "source": [
    "# The code below provides a function that extracts nucleotide\n",
    "# database accessions for INSDC data from the result of an\n",
    "# Entrez.elink() query.\n",
    "def extract_insdc(links):\n",
    "    \"\"\"Returns the link UIDs for RefSeq entries, from the\n",
    "    passed Elink search results\"\"\"\n",
    "    # Work only with INSDC accession UIDs\n",
    "    linkset = [ls for ls in links[0]['LinkSetDb'] if\n",
    "              ls['LinkName'] == 'assembly_nuccore_insdc']\n",
    "    if 0 == len(linkset):  # There are no INSDC UIDs\n",
    "        raise ValueError(\"Elink() output has no assembly_nuccore_insdc data\")\n",
    "    # Make a list of the INSDC UIDs\n",
    "    uids = [i['Id'] for i in linkset[0]['Link']]\n",
    "    return uids"
   ]
  },
  {
   "cell_type": "markdown",
   "metadata": {},
   "source": [
    "You will use the `extract_insdc()` function to get the accession IDs for the sequences in this *Ralstonia solanacearum* genome, in the cell below."
   ]
  },
  {
   "cell_type": "code",
   "execution_count": null,
   "metadata": {
    "collapsed": false
   },
   "outputs": [],
   "source": [
    "# The line below uses the extract_insdc() function to get INSDC/GenBank\n",
    "# accession UIDs for the components of the genome/assembly referred to\n",
    "# in the 'links' variable. These will be stored in the variable\n",
    "# 'nuc_uids'\n",
    "nuc_uids = extract_insdc(links)\n",
    "\n",
    "# Show the contents of 'nuc_uids'\n",
    "print(nuc_uids)"
   ]
  },
  {
   "cell_type": "markdown",
   "metadata": {},
   "source": [
    "### Fetching sequence records from `NCBI`\n",
    "\n",
    "Now we have accession UIDs for the nucleotide sequences of the assembly, you will use `Entrez.efetch` as before to *fetch*  each sequence record from NCBI.\n",
    "\n",
    "We need to tell `NCBI` which database we want to use (in this case, `nucleotide`), and the identifiers for the records (the values in `nuc_uids`). To get all the data at the same time, we can join the accession ids into a single string, with commas to separate the individual UIDs.\n",
    "\n",
    "We will also tell `NCBI` two further pieces of information:\n",
    "\n",
    "1. The format we want the data returned in. We will ask for GenBank format (`gbwithparts`) to obtain the genome sequence and feature annotations.\n",
    "2. How we want the data returned. We will ask for plain text (`text`)."
   ]
  },
  {
   "cell_type": "code",
   "execution_count": null,
   "metadata": {
    "collapsed": false
   },
   "outputs": [],
   "source": [
    "# The lines below retrieve (fetch) the GenBank records for\n",
    "# each database entry specified in `nuc_uids`, in plain text\n",
    "# format. These are parsed with Biopython's SeqIO module into\n",
    "# SeqRecords, which structure the data into a usable format.\n",
    "# The SeqRecords are placed in the variable 'records'.\n",
    "records = []\n",
    "for nuc_uid in nuc_uids:\n",
    "    handle = Entrez.efetch(db=\"nucleotide\", rettype=\"gbwithparts\", retmode=\"text\",\n",
    "                          id=nuc_uid)\n",
    "    records.append(SeqIO.read(handle, 'genbank'))"
   ]
  },
  {
   "cell_type": "markdown",
   "metadata": {},
   "source": [
    "By running the cell below, you can see that each sequence in the *Ralstonia solanacearum* assembly has been downloaded into a `SeqRecord`, and that it contains useful metadata, describing the sequence assembly and properties of the annotation."
   ]
  },
  {
   "cell_type": "code",
   "execution_count": null,
   "metadata": {
    "collapsed": false
   },
   "outputs": [],
   "source": [
    "# Show the contents of each downloaded `SeqRecord`.\n",
    "for record in records:\n",
    "    print(record, \"\\n\")"
   ]
  },
  {
   "cell_type": "markdown",
   "metadata": {
    "collapsed": true
   },
   "source": [
    "### Writing sequence data with `Biopython`\n",
    "\n",
    "The `SeqIO` module can be used to write sequence data out to a file on your local hard drive. You will do this in the cells below, using the `SeqIO.write()` function.\n",
    "\n",
    "<div class=\"alert alert-info\" role=\"alert\">\n",
    "The <b>SeqRecord</b>s you downloaded contain sequence and feature annotation data, and can be written in any of several file formats. Some of these formats preserve annotation information, and some do not.\n",
    "</div>\n",
    "\n",
    "Firstly, in the cell below, you will write GenBank format files that preserve both sequence and annotation data. For the `SeqIO.write()` function, we need to specify the list of `SeqRecord`s (`records`), the output filename to which they will be written, and the format we wish to write (in this case `\"genbank\"`)."
   ]
  },
  {
   "cell_type": "code",
   "execution_count": null,
   "metadata": {
    "collapsed": false
   },
   "outputs": [],
   "source": [
    "# The line below writes the sequence data in 'seqdata' to\n",
    "# the local file \"data/ralstonia.gbk\", in GenBank format.\n",
    "# The function returns the number of sequences that were written to file\n",
    "SeqIO.write(records, os.path.join(outdir, \"ralstonia.gbk\"), \"genbank\")"
   ]
  },
  {
   "cell_type": "markdown",
   "metadata": {},
   "source": [
    "If you inspect the newly-created `ralstonia.gbk` file, you should see that it contains complete GenBank records, describing this genome.\n",
    "\n",
    "GenBank files are detailed and large, and sometimes we only want to consider the genome sequence itself, not its annotation. The FASTA sequence can be written out on its own by specifyinf the `\"fasta\"` format to `SeqIO.write()` instead. This time, we write the output to `data/ralstonia.fasta`."
   ]
  },
  {
   "cell_type": "code",
   "execution_count": null,
   "metadata": {
    "collapsed": false
   },
   "outputs": [],
   "source": [
    "# The line below writes the sequence data in 'seqdata' to\n",
    "# the local file \"data/ralstonia.fasta\", in FASTA format.\n",
    "SeqIO.write(records, os.path.join(outdir, \"ralstonia.fasta\"), \"fasta\")"
   ]
  }
 ],
 "metadata": {
  "kernelspec": {
   "display_name": "Python 3",
   "language": "python",
   "name": "python3"
  },
  "language_info": {
   "codemirror_mode": {
    "name": "ipython",
    "version": 3
   },
   "file_extension": ".py",
   "mimetype": "text/x-python",
   "name": "python",
   "nbconvert_exporter": "python",
   "pygments_lexer": "ipython3",
   "version": "3.5.1"
  },
  "widgets": {
   "state": {},
   "version": "1.1.1"
  }
 },
 "nbformat": 4,
 "nbformat_minor": 0
}
