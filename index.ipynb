{
 "cells": [
  {
   "cell_type": "markdown",
   "metadata": {},
   "source": [
    "# Notebooks-Bioinformatics"
   ]
  },
  {
   "cell_type": "markdown",
   "metadata": {},
   "source": [
    "## Introduction\n",
    "\n",
    "This repository contains iPython notebooks that can be run using [Project Jupyter](http://jupyter.org/), covering topics relating to bioinformatics."
   ]
  },
  {
   "cell_type": "markdown",
   "metadata": {},
   "source": [
    "## Contents"
   ]
  },
  {
   "cell_type": "markdown",
   "metadata": {},
   "source": [
    "### Biopython ![Biopython logo](images/biopython_small.jpg)\n",
    "\n",
    "* **[Biopython: KGML](Biopython_KGML_intro.ipynb)** - an introduction to [Biopython](http://biopython.org/)'s `Bio.KEGG.REST` and `Bio.KEGG.KGML` modules for downloading, interacting with, and rendering custom graphics from [KEGG](http://www.genome.jp/kegg/) data. <img src=\"images/kgml.png\",width=120 />\n",
    "* ** [Biopython: NCBI/Entrez](Biopython_NCBI_Entrez_downloads.ipynb)** - an introduction to downloading genome data from [NCBI](http://www.ncbi.nlm.nih.gov/) using [Biopython](http://biopython.org/)'s `Bio.Entrez` module. <img src=\"images/entrez.png\",width=120 />\n",
    "</ul>"
   ]
  },
  {
   "cell_type": "markdown",
   "metadata": {},
   "source": [
    "### Comparative Genomics\n",
    "\n",
    "* **[Reciprocal Best Hits](RBBH_comparisons.ipynb)** - an introduction to reciprocal best hits, a method for identifying \"equivalent features\" (putative orthologues) across two or more genomes. <img src=\"images/rbbh.png\",width=120 />"
   ]
  },
  {
   "cell_type": "markdown",
   "metadata": {},
   "source": [
    "### Statistics\n",
    "\n",
    "* **[The Baserate Fallacy](baserate_fallacy.ipynb)** - interactive graphical examples describing the [baserate fallacy](https://en.wikipedia.org/wiki/Base_rate_fallacy), centred around functional prediction of effectors in bacterial pathogens. <img src=\"images/baserate.png\",width=120 />"
   ]
  }
 ],
 "metadata": {
  "kernelspec": {
   "display_name": "Python 3",
   "language": "python",
   "name": "python3"
  },
  "language_info": {
   "codemirror_mode": {
    "name": "ipython",
    "version": 3
   },
   "file_extension": ".py",
   "mimetype": "text/x-python",
   "name": "python",
   "nbconvert_exporter": "python",
   "pygments_lexer": "ipython3",
   "version": "3.5.1"
  },
  "widgets": {
   "state": {},
   "version": "1.1.1"
  }
 },
 "nbformat": 4,
 "nbformat_minor": 0
}
